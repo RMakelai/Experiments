{
  "cells": [
    {
      "cell_type": "code",
      "source": [
        "## Import libraries\n",
        "import numpy as np\n",
        "import pandas as pd\n",
        "from sklearn.preprocessing import LabelEncoder\n",
        "from sklearn.model_selection import train_test_split\n",
        "from sklearn.linear_model import LogisticRegression\n",
        "from sklearn import metrics\n",
        "import mlflow\n",
        "import matplotlib\n",
        "import matplotlib.pyplot as plt\n",
        "%matplotlib inline"
      ],
      "outputs": [],
      "execution_count": 1,
      "metadata": {
        "jupyter": {
          "source_hidden": false,
          "outputs_hidden": false
        },
        "nteract": {
          "transient": {
            "deleting": false
          }
        },
        "gather": {
          "logged": 1736770084764
        }
      }
    },
    {
      "cell_type": "code",
      "source": [
        "################\n",
        "## Generate data\n",
        "################\n",
        "\n",
        "\n",
        "# Set random seed for reproducibility\n",
        "np.random.seed(42)\n",
        "\n",
        "# Number of rows to be generated\n",
        "n_rows = 10000\n",
        "\n",
        "# Generate descriptive variables\n",
        "age = np.random.randint(18, 71, size=n_rows)\n",
        "gender = np.random.choice(['Male', 'Female'], size=n_rows)\n",
        "geographical_area = np.random.randint(1, 6, size=n_rows)\n",
        "invoicing = np.random.normal(loc=120, scale=20, size=n_rows)\n",
        "usage_amount = np.random.normal(loc=50, scale=10, size=n_rows)\n",
        "product_flag = np.random.choice([0, 1], size=n_rows)\n",
        "\n",
        "# Create a DataFrame\n",
        "df = pd.DataFrame({\n",
        "    'age': age,\n",
        "    'gender': gender,\n",
        "    'geographical_area': geographical_area,\n",
        "    'invoicing': invoicing,\n",
        "    'usage_amount': usage_amount,\n",
        "    'product_flag': product_flag\n",
        "})\n",
        "\n",
        "\n",
        "# Make gender a binary flag\n",
        "label_encoder = LabelEncoder()\n",
        "\n",
        "df['gender_binary'] = label_encoder.fit_transform(df['gender'])\n",
        "\n",
        "\n",
        "# Introduce correlation between age and invoicing\n",
        "df['invoicing'] += df['age'] * 5\n",
        "\n",
        "# Introduce correlation between product flag and invoicing\n",
        "df['invoicing'] += df['product_flag'] * 120\n",
        "\n",
        "# Introduce correlation between usage and invoicing\n",
        "df['invoicing'] += df['usage_amount'] * 10\n",
        "\n",
        "\n",
        "\n",
        "# Generate target variable so that it depends on selected features, include small random variation\n",
        "linear_combination = -25 + 0.05 * df['age'] + 0.02 * df['invoicing']\n",
        "random_variation =  0.1 * np.random.normal(0, 1, size=len(df))\n",
        "\n",
        "probability = 1 / (1 + np.exp(-linear_combination))\n",
        "df['target'] = np.random.binomial(1, probability)\n",
        "df['probability'] = probability\n",
        "df['linear_combination'] = linear_combination\n",
        "df['random'] = random_variation\n",
        "\n",
        "\n",
        "print('Target distribution:')\n",
        "print(df['target'].value_counts())\n",
        "print('\\nFirst rows of data:')\n",
        "df.head(10)"
      ],
      "outputs": [
        {
          "output_type": "stream",
          "name": "stdout",
          "text": "Target distribution:\ntarget\n0    9030\n1     970\nName: count, dtype: int64\n\nFirst rows of data:\n"
        },
        {
          "output_type": "execute_result",
          "execution_count": 2,
          "data": {
            "text/plain": "   age  gender  geographical_area    invoicing  usage_amount  product_flag  \\\n0   56    Male                  3   990.822050     45.137949             1   \n1   69  Female                  2  1214.058278     60.601857             1   \n2   46    Male                  3   919.854548     59.068388             0   \n3   32  Female                  4   976.366058     57.308048             1   \n4   60    Male                  1  1178.770268     65.078313             1   \n5   25    Male                  5   847.897505     50.062975             1   \n6   38  Female                  1   948.466477     51.758938             1   \n7   56    Male                  4   836.981312     30.070346             1   \n8   36  Female                  5   697.095139     40.899813             0   \n9   40  Female                  3   997.730684     55.114726             1   \n\n   gender_binary  target  probability  linear_combination    random  \n0              1       0     0.084435           -2.383559 -0.060410  \n1              0       1     0.938841            2.731166  0.124315  \n2              1       0     0.013349           -4.302909 -0.135310  \n3              0       0     0.020379           -3.872679  0.191157  \n4              1       1     0.828553            1.575405 -0.018502  \n5              1       0     0.001121           -6.792050 -0.136209  \n6              0       0     0.015818           -4.130670  0.038982  \n7              1       0     0.004234           -5.460374  0.018276  \n8              0       0     0.000095           -9.258097 -0.015379  \n9              0       0     0.045417           -3.045386 -0.062986  ",
            "text/html": "<div>\n<style scoped>\n    .dataframe tbody tr th:only-of-type {\n        vertical-align: middle;\n    }\n\n    .dataframe tbody tr th {\n        vertical-align: top;\n    }\n\n    .dataframe thead th {\n        text-align: right;\n    }\n</style>\n<table border=\"1\" class=\"dataframe\">\n  <thead>\n    <tr style=\"text-align: right;\">\n      <th></th>\n      <th>age</th>\n      <th>gender</th>\n      <th>geographical_area</th>\n      <th>invoicing</th>\n      <th>usage_amount</th>\n      <th>product_flag</th>\n      <th>gender_binary</th>\n      <th>target</th>\n      <th>probability</th>\n      <th>linear_combination</th>\n      <th>random</th>\n    </tr>\n  </thead>\n  <tbody>\n    <tr>\n      <th>0</th>\n      <td>56</td>\n      <td>Male</td>\n      <td>3</td>\n      <td>990.822050</td>\n      <td>45.137949</td>\n      <td>1</td>\n      <td>1</td>\n      <td>0</td>\n      <td>0.084435</td>\n      <td>-2.383559</td>\n      <td>-0.060410</td>\n    </tr>\n    <tr>\n      <th>1</th>\n      <td>69</td>\n      <td>Female</td>\n      <td>2</td>\n      <td>1214.058278</td>\n      <td>60.601857</td>\n      <td>1</td>\n      <td>0</td>\n      <td>1</td>\n      <td>0.938841</td>\n      <td>2.731166</td>\n      <td>0.124315</td>\n    </tr>\n    <tr>\n      <th>2</th>\n      <td>46</td>\n      <td>Male</td>\n      <td>3</td>\n      <td>919.854548</td>\n      <td>59.068388</td>\n      <td>0</td>\n      <td>1</td>\n      <td>0</td>\n      <td>0.013349</td>\n      <td>-4.302909</td>\n      <td>-0.135310</td>\n    </tr>\n    <tr>\n      <th>3</th>\n      <td>32</td>\n      <td>Female</td>\n      <td>4</td>\n      <td>976.366058</td>\n      <td>57.308048</td>\n      <td>1</td>\n      <td>0</td>\n      <td>0</td>\n      <td>0.020379</td>\n      <td>-3.872679</td>\n      <td>0.191157</td>\n    </tr>\n    <tr>\n      <th>4</th>\n      <td>60</td>\n      <td>Male</td>\n      <td>1</td>\n      <td>1178.770268</td>\n      <td>65.078313</td>\n      <td>1</td>\n      <td>1</td>\n      <td>1</td>\n      <td>0.828553</td>\n      <td>1.575405</td>\n      <td>-0.018502</td>\n    </tr>\n    <tr>\n      <th>5</th>\n      <td>25</td>\n      <td>Male</td>\n      <td>5</td>\n      <td>847.897505</td>\n      <td>50.062975</td>\n      <td>1</td>\n      <td>1</td>\n      <td>0</td>\n      <td>0.001121</td>\n      <td>-6.792050</td>\n      <td>-0.136209</td>\n    </tr>\n    <tr>\n      <th>6</th>\n      <td>38</td>\n      <td>Female</td>\n      <td>1</td>\n      <td>948.466477</td>\n      <td>51.758938</td>\n      <td>1</td>\n      <td>0</td>\n      <td>0</td>\n      <td>0.015818</td>\n      <td>-4.130670</td>\n      <td>0.038982</td>\n    </tr>\n    <tr>\n      <th>7</th>\n      <td>56</td>\n      <td>Male</td>\n      <td>4</td>\n      <td>836.981312</td>\n      <td>30.070346</td>\n      <td>1</td>\n      <td>1</td>\n      <td>0</td>\n      <td>0.004234</td>\n      <td>-5.460374</td>\n      <td>0.018276</td>\n    </tr>\n    <tr>\n      <th>8</th>\n      <td>36</td>\n      <td>Female</td>\n      <td>5</td>\n      <td>697.095139</td>\n      <td>40.899813</td>\n      <td>0</td>\n      <td>0</td>\n      <td>0</td>\n      <td>0.000095</td>\n      <td>-9.258097</td>\n      <td>-0.015379</td>\n    </tr>\n    <tr>\n      <th>9</th>\n      <td>40</td>\n      <td>Female</td>\n      <td>3</td>\n      <td>997.730684</td>\n      <td>55.114726</td>\n      <td>1</td>\n      <td>0</td>\n      <td>0</td>\n      <td>0.045417</td>\n      <td>-3.045386</td>\n      <td>-0.062986</td>\n    </tr>\n  </tbody>\n</table>\n</div>"
          },
          "metadata": {}
        }
      ],
      "execution_count": 2,
      "metadata": {
        "gather": {
          "logged": 1736770167097
        }
      }
    },
    {
      "cell_type": "code",
      "source": [
        "######################\n",
        "## Logistic Regression\n",
        "######################\n",
        "\n",
        "# Select features to be used out of ['age', 'gender_binary', 'geographical_area', 'invoicing', 'usage_amount', 'product_flag']\n",
        "features = ['age', 'invoicing']\n",
        "\n",
        "# Split data to training and testing partitions\n",
        "X_train, X_test, y_train, y_test = train_test_split(df[features], df['target'], test_size=0.25, random_state=42)\n",
        "\n",
        "print('Number of rows in training data:', len(X_train))\n",
        "\n",
        "# Fit the model, use regularization hyperparameter 0.01\n",
        "model_logreg = LogisticRegression(random_state=42)\n",
        "reg = 0.001\n",
        "model_logreg = LogisticRegression(C=1/reg, solver=\"liblinear\").fit(X_train, y_train)\n",
        "\n",
        "# Display model equation\n",
        "intercept = model_logreg.intercept_[0]\n",
        "coefficients = model_logreg.coef_[0]\n",
        "\n",
        "equation = f\"Logit(P) = {intercept:.4f}\"\n",
        "for feature, coef in zip(X_train.columns, coefficients):\n",
        "    equation += f\" + ({coef:.4f} * {feature})\"\n",
        "\n",
        "print(\"Logistic Regression Equation:\", equation)\n",
        "\n",
        "odds_ratios = np.exp(model_logreg.coef_)\n",
        "print(f'Odds Ratios: {odds_ratios}')"
      ],
      "outputs": [
        {
          "output_type": "stream",
          "name": "stdout",
          "text": "Number of rows in training data: 7500\nLogistic Regression Equation: Logit(P) = -20.7978 + (0.0406 * age) + (0.0165 * invoicing)\nOdds Ratios: [[1.04140215 1.01661   ]]\n"
        }
      ],
      "execution_count": 6,
      "metadata": {
        "jupyter": {
          "source_hidden": false,
          "outputs_hidden": false
        },
        "nteract": {
          "transient": {
            "deleting": false
          }
        },
        "gather": {
          "logged": 1736770294802
        }
      }
    },
    {
      "cell_type": "code",
      "source": [
        "print(odds_ratios"
      ],
      "outputs": [
        {
          "output_type": "error",
          "ename": "IndexError",
          "evalue": "index 1 is out of bounds for axis 0 with size 1",
          "traceback": [
            "\u001b[0;31m---------------------------------------------------------------------------\u001b[0m",
            "\u001b[0;31mIndexError\u001b[0m                                Traceback (most recent call last)",
            "Cell \u001b[0;32mIn[12], line 1\u001b[0m\n\u001b[0;32m----> 1\u001b[0m \u001b[38;5;28mprint\u001b[39m(\u001b[43modds_ratios\u001b[49m\u001b[43m[\u001b[49m\u001b[38;5;241;43m1\u001b[39;49m\u001b[43m]\u001b[49m)\n",
            "\u001b[0;31mIndexError\u001b[0m: index 1 is out of bounds for axis 0 with size 1"
          ]
        }
      ],
      "execution_count": 12,
      "metadata": {
        "jupyter": {
          "source_hidden": false,
          "outputs_hidden": false
        },
        "nteract": {
          "transient": {
            "deleting": false
          }
        },
        "gather": {
          "logged": 1736770376703
        }
      }
    },
    {
      "cell_type": "code",
      "source": [
        "##################################################\n",
        "## Evaluate the model based on test data partition\n",
        "##################################################\n",
        "\n",
        "\n",
        "# Predicted value in test set (y_pred contains what is predicted based on X_pred data by the model, and y_test contains the true outcome):\n",
        "y_pred = model_logreg.predict(X_test)\n",
        "\n",
        "# Calculate true/false poritices/negatives\n",
        "print('Classification outcomes:')\n",
        "correct = y_test == y_pred\n",
        "tp = np.sum(correct & y_test)\n",
        "tn = np.sum(correct & np.logical_not(y_test))\n",
        "fp = np.sum(np.logical_not(correct) & y_test)\n",
        "fn = np.sum(np.logical_not(correct) & np.logical_not(y_test))\n",
        "\n",
        "print(\"TP - True Positives: \", tp)\n",
        "print(\"TN - True Negatives: \", tn)\n",
        "print(\"FP - False positives: \", fp)\n",
        "print(\"FN - False negatives: \", fn)\n",
        "\n",
        "\n",
        "# Confusion matrix\n",
        "print('\\n')\n",
        "print('Confusion matrix:')\n",
        "cnf_matrix = metrics.confusion_matrix(y_test, y_pred, normalize=None)\n",
        "print(cnf_matrix)\n",
        "\n",
        "\n",
        "# Other metrics\n",
        "accuracy = np.average(y_pred == y_test) # Accuracy\n",
        "auc = metrics.roc_auc_score(y_test,y_pred) # Area under ROC curve\n",
        "sensitivity = tp / (tp + fn) # out of all actual positives, how many are correctly predicted (ie. recall)\n",
        "specificity = tn / (tn + fp) # out of all actual negatives, how many are correctly predicted\n",
        "precision = tp / (tp + fp) # out of all positive predidtions, how many are true positives\n",
        "false_positive_rate = fp / (fp + tn)\n",
        "\n",
        "print('\\n')\n",
        "print('Other metrics:')\n",
        "print('AUC: ', auc)\n",
        "print('Accuracy:', accuracy)\n",
        "print('Sensitivity/recall:', sensitivity)\n",
        "print('Specificity: ', specificity)\n",
        "print('Precision: ', precision)\n",
        "print('False positive rate: ',false_positive_rate)"
      ],
      "outputs": [
        {
          "output_type": "stream",
          "name": "stdout",
          "text": "Classification outcomes:\nTP - True Positives:  107\nTN - True Negatives:  2231\nFP - False positives:  120\nFN - False negatives:  42\n\n\nConfusion matrix:\n[[2231   42]\n [ 120  107]]\n\n\nOther metrics:\nAUC:  0.7264439280502198\nAccuracy: 0.9352\nSensitivity/recall: 0.7181208053691275\nSpecificity:  0.9489578902594641\nPrecision:  0.4713656387665198\nFalse positive rate:  0.05104210974053594\n"
        }
      ],
      "execution_count": 4,
      "metadata": {
        "jupyter": {
          "source_hidden": false,
          "outputs_hidden": false
        },
        "nteract": {
          "transient": {
            "deleting": false
          }
        },
        "gather": {
          "logged": 1736757933708
        }
      }
    },
    {
      "cell_type": "code",
      "source": [
        "# Plot ROC curve\n",
        "fpr, tpr, thresholds = metrics.roc_curve(y_test, y_pred)\n",
        "\n",
        "# plot ROC curve\n",
        "fig = plt.figure(figsize=(6, 6))\n",
        "# Plot the diagonal 50% line\n",
        "plt.plot([0, 1], [0, 1], 'k--')\n",
        "# Plot the FPR and TPR achieved by our model\n",
        "plt.plot(fpr, tpr)\n",
        "plt.xlabel('False Positive Rate')\n",
        "plt.ylabel('True Positive Rate')\n",
        "plt.title('ROC Curve')\n",
        "plt.show()"
      ],
      "outputs": [
        {
          "output_type": "display_data",
          "data": {
            "text/plain": "<Figure size 600x600 with 1 Axes>",
            "image/png": "[encoded data removed]"
          },
          "metadata": {}
        }
      ],
      "execution_count": 6,
      "metadata": {
        "jupyter": {
          "source_hidden": false,
          "outputs_hidden": false
        },
        "nteract": {
          "transient": {
            "deleting": false
          }
        },
        "gather": {
          "logged": 1736757947339
        }
      }
    }
  ],
  "metadata": {
    "kernelspec": {
      "name": "python310-sdkv2",
      "language": "python",
      "display_name": "Python 3.10 - SDK v2"
    },
    "language_info": {
      "name": "python",
      "version": "3.10.14",
      "mimetype": "text/x-python",
      "codemirror_mode": {
        "name": "ipython",
        "version": 3
      },
      "pygments_lexer": "ipython3",
      "nbconvert_exporter": "python",
      "file_extension": ".py"
    },
    "microsoft": {
      "ms_spell_check": {
        "ms_spell_check_language": "en"
      },
      "host": {
        "AzureML": {
          "notebookHasBeenCompleted": true
        }
      }
    },
    "kernel_info": {
      "name": "python310-sdkv2"
    },
    "nteract": {
      "version": "nteract-front-end@1.0.0"
    }
  },
  "nbformat": 4,
  "nbformat_minor": 2
}