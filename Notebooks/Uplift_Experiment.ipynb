{
 "cells": [
  {
   "cell_type": "code",
   "execution_count": 1,
   "id": "9c3959b7-5d72-44bb-a81a-dd00767becb7",
   "metadata": {
    "tags": []
   },
   "outputs": [],
   "source": [
    "# Uplift experiment"
   ]
  },
  {
   "cell_type": "code",
   "execution_count": 2,
   "id": "c0dbff51-d80b-4e30-9422-d83bc6a365c1",
   "metadata": {
    "tags": []
   },
   "outputs": [],
   "source": [
    "# Import libs\n",
    "import numpy as np\n",
    "import pandas as pd \n",
    "from sklearn.model_selection import train_test_split\n",
    "from sklearn.ensemble import GradientBoostingClassifier\n",
    "\n",
    "import requests\n",
    "import io"
   ]
  },
  {
   "cell_type": "code",
   "execution_count": 3,
   "id": "1f366cee-45bb-44ce-a130-c5b2503bc0c4",
   "metadata": {
    "tags": []
   },
   "outputs": [
    {
     "data": {
      "text/html": [
       "<div>\n",
       "<style scoped>\n",
       "    .dataframe tbody tr th:only-of-type {\n",
       "        vertical-align: middle;\n",
       "    }\n",
       "\n",
       "    .dataframe tbody tr th {\n",
       "        vertical-align: top;\n",
       "    }\n",
       "\n",
       "    .dataframe thead th {\n",
       "        text-align: right;\n",
       "    }\n",
       "</style>\n",
       "<table border=\"1\" class=\"dataframe\">\n",
       "  <thead>\n",
       "    <tr style=\"text-align: right;\">\n",
       "      <th></th>\n",
       "      <th>f0</th>\n",
       "      <th>f1</th>\n",
       "      <th>f2</th>\n",
       "      <th>f3</th>\n",
       "      <th>f4</th>\n",
       "      <th>f5</th>\n",
       "      <th>f6</th>\n",
       "      <th>f7</th>\n",
       "      <th>f8</th>\n",
       "      <th>f9</th>\n",
       "      <th>f10</th>\n",
       "      <th>f11</th>\n",
       "      <th>treatment</th>\n",
       "      <th>conversion</th>\n",
       "      <th>visit</th>\n",
       "      <th>exposure</th>\n",
       "    </tr>\n",
       "  </thead>\n",
       "  <tbody>\n",
       "    <tr>\n",
       "      <th>0</th>\n",
       "      <td>12.616365</td>\n",
       "      <td>10.059654</td>\n",
       "      <td>8.976429</td>\n",
       "      <td>4.679882</td>\n",
       "      <td>10.280525</td>\n",
       "      <td>4.115453</td>\n",
       "      <td>0.294443</td>\n",
       "      <td>4.833815</td>\n",
       "      <td>3.955396</td>\n",
       "      <td>13.190056</td>\n",
       "      <td>5.300375</td>\n",
       "      <td>-0.168679</td>\n",
       "      <td>1</td>\n",
       "      <td>0</td>\n",
       "      <td>0</td>\n",
       "      <td>0</td>\n",
       "    </tr>\n",
       "    <tr>\n",
       "      <th>1</th>\n",
       "      <td>12.616365</td>\n",
       "      <td>10.059654</td>\n",
       "      <td>9.002689</td>\n",
       "      <td>4.679882</td>\n",
       "      <td>10.280525</td>\n",
       "      <td>4.115453</td>\n",
       "      <td>0.294443</td>\n",
       "      <td>4.833815</td>\n",
       "      <td>3.955396</td>\n",
       "      <td>13.190056</td>\n",
       "      <td>5.300375</td>\n",
       "      <td>-0.168679</td>\n",
       "      <td>1</td>\n",
       "      <td>0</td>\n",
       "      <td>0</td>\n",
       "      <td>0</td>\n",
       "    </tr>\n",
       "    <tr>\n",
       "      <th>2</th>\n",
       "      <td>12.616365</td>\n",
       "      <td>10.059654</td>\n",
       "      <td>8.964775</td>\n",
       "      <td>4.679882</td>\n",
       "      <td>10.280525</td>\n",
       "      <td>4.115453</td>\n",
       "      <td>0.294443</td>\n",
       "      <td>4.833815</td>\n",
       "      <td>3.955396</td>\n",
       "      <td>13.190056</td>\n",
       "      <td>5.300375</td>\n",
       "      <td>-0.168679</td>\n",
       "      <td>1</td>\n",
       "      <td>0</td>\n",
       "      <td>0</td>\n",
       "      <td>0</td>\n",
       "    </tr>\n",
       "    <tr>\n",
       "      <th>3</th>\n",
       "      <td>12.616365</td>\n",
       "      <td>10.059654</td>\n",
       "      <td>9.002801</td>\n",
       "      <td>4.679882</td>\n",
       "      <td>10.280525</td>\n",
       "      <td>4.115453</td>\n",
       "      <td>0.294443</td>\n",
       "      <td>4.833815</td>\n",
       "      <td>3.955396</td>\n",
       "      <td>13.190056</td>\n",
       "      <td>5.300375</td>\n",
       "      <td>-0.168679</td>\n",
       "      <td>1</td>\n",
       "      <td>0</td>\n",
       "      <td>0</td>\n",
       "      <td>0</td>\n",
       "    </tr>\n",
       "    <tr>\n",
       "      <th>4</th>\n",
       "      <td>12.616365</td>\n",
       "      <td>10.059654</td>\n",
       "      <td>9.037999</td>\n",
       "      <td>4.679882</td>\n",
       "      <td>10.280525</td>\n",
       "      <td>4.115453</td>\n",
       "      <td>0.294443</td>\n",
       "      <td>4.833815</td>\n",
       "      <td>3.955396</td>\n",
       "      <td>13.190056</td>\n",
       "      <td>5.300375</td>\n",
       "      <td>-0.168679</td>\n",
       "      <td>1</td>\n",
       "      <td>0</td>\n",
       "      <td>0</td>\n",
       "      <td>0</td>\n",
       "    </tr>\n",
       "  </tbody>\n",
       "</table>\n",
       "</div>"
      ],
      "text/plain": [
       "          f0         f1        f2        f3         f4        f5        f6  \\\n",
       "0  12.616365  10.059654  8.976429  4.679882  10.280525  4.115453  0.294443   \n",
       "1  12.616365  10.059654  9.002689  4.679882  10.280525  4.115453  0.294443   \n",
       "2  12.616365  10.059654  8.964775  4.679882  10.280525  4.115453  0.294443   \n",
       "3  12.616365  10.059654  9.002801  4.679882  10.280525  4.115453  0.294443   \n",
       "4  12.616365  10.059654  9.037999  4.679882  10.280525  4.115453  0.294443   \n",
       "\n",
       "         f7        f8         f9       f10       f11  treatment  conversion  \\\n",
       "0  4.833815  3.955396  13.190056  5.300375 -0.168679          1           0   \n",
       "1  4.833815  3.955396  13.190056  5.300375 -0.168679          1           0   \n",
       "2  4.833815  3.955396  13.190056  5.300375 -0.168679          1           0   \n",
       "3  4.833815  3.955396  13.190056  5.300375 -0.168679          1           0   \n",
       "4  4.833815  3.955396  13.190056  5.300375 -0.168679          1           0   \n",
       "\n",
       "   visit  exposure  \n",
       "0      0         0  \n",
       "1      0         0  \n",
       "2      0         0  \n",
       "3      0         0  \n",
       "4      0         0  "
      ]
     },
     "execution_count": 3,
     "metadata": {},
     "output_type": "execute_result"
    }
   ],
   "source": [
    "# Import data, source and description: https://ailab.criteo.com/criteo-uplift-prediction-dataset/\n",
    "\n",
    "# Pointer to file, download, and check if successful\n",
    "url = \"http://go.criteo.net/criteo-research-uplift-v2.1.csv.gz\"\n",
    "response = requests.get(url)\n",
    "response.raise_for_status()\n",
    "\n",
    "# Unzip and read file to data frame\n",
    "df = pd.read_csv(io.BytesIO(response.content), compression='gzip')\n",
    "\n",
    "df.head(5)"
   ]
  },
  {
   "cell_type": "code",
   "execution_count": 4,
   "id": "e4e31ad5-1094-4648-92a9-571efdf89051",
   "metadata": {
    "tags": []
   },
   "outputs": [
    {
     "name": "stdout",
     "output_type": "stream",
     "text": [
      "<class 'pandas.core.frame.DataFrame'>\n",
      "RangeIndex: 13979592 entries, 0 to 13979591\n",
      "Data columns (total 16 columns):\n",
      " #   Column      Dtype  \n",
      "---  ------      -----  \n",
      " 0   f0          float64\n",
      " 1   f1          float64\n",
      " 2   f2          float64\n",
      " 3   f3          float64\n",
      " 4   f4          float64\n",
      " 5   f5          float64\n",
      " 6   f6          float64\n",
      " 7   f7          float64\n",
      " 8   f8          float64\n",
      " 9   f9          float64\n",
      " 10  f10         float64\n",
      " 11  f11         float64\n",
      " 12  treatment   int64  \n",
      " 13  conversion  int64  \n",
      " 14  visit       int64  \n",
      " 15  exposure    int64  \n",
      "dtypes: float64(12), int64(4)\n",
      "memory usage: 1.7 GB\n"
     ]
    }
   ],
   "source": [
    "df.info()"
   ]
  },
  {
   "cell_type": "code",
   "execution_count": 5,
   "id": "62da152b-25fc-488b-822a-3069949ddbfa",
   "metadata": {
    "tags": []
   },
   "outputs": [
    {
     "data": {
      "text/plain": [
       "treatment\n",
       "1    0.85\n",
       "0    0.15\n",
       "Name: proportion, dtype: float64"
      ]
     },
     "execution_count": 5,
     "metadata": {},
     "output_type": "execute_result"
    }
   ],
   "source": [
    "# Check target variables\n",
    "df['treatment'].value_counts(normalize = True)"
   ]
  },
  {
   "cell_type": "code",
   "execution_count": 6,
   "id": "6a2ad978-742d-4bd2-a57c-53475210fca2",
   "metadata": {
    "tags": []
   },
   "outputs": [
    {
     "data": {
      "text/plain": [
       "conversion\n",
       "0    0.997083\n",
       "1    0.002917\n",
       "Name: proportion, dtype: float64"
      ]
     },
     "execution_count": 6,
     "metadata": {},
     "output_type": "execute_result"
    }
   ],
   "source": [
    "df['conversion'].value_counts(normalize = True)"
   ]
  },
  {
   "cell_type": "code",
   "execution_count": 7,
   "id": "b57612ff-bb15-4df2-be96-04e1a1029731",
   "metadata": {
    "tags": []
   },
   "outputs": [],
   "source": [
    "# Take 10% sample to speed up things...\n",
    "sample_df = df.sample(frac=0.1, random_state=1)"
   ]
  },
  {
   "cell_type": "code",
   "execution_count": 8,
   "id": "7be535c4-a0b7-46df-b2a7-f04175715ad7",
   "metadata": {
    "tags": []
   },
   "outputs": [],
   "source": [
    "# Define features, treatment, response\n",
    "X = sample_df[['f0', 'f1', 'f2', 'f3']]\n",
    "T = sample_df['treatment']\n",
    "Y = sample_df['conversion']\n",
    "\n",
    "# Split data to training and testing\n",
    "X_train, X_test, T_train, T_test, Y_train, Y_test = train_test_split(X, T, Y, test_size=0.3, random_state=42)"
   ]
  },
  {
   "cell_type": "code",
   "execution_count": 9,
   "id": "d2b1927b-e5e4-4eb5-a8bc-5987e67e7826",
   "metadata": {
    "tags": []
   },
   "outputs": [
    {
     "data": {
      "text/html": [
       "<style>#sk-container-id-1 {color: black;}#sk-container-id-1 pre{padding: 0;}#sk-container-id-1 div.sk-toggleable {background-color: white;}#sk-container-id-1 label.sk-toggleable__label {cursor: pointer;display: block;width: 100%;margin-bottom: 0;padding: 0.3em;box-sizing: border-box;text-align: center;}#sk-container-id-1 label.sk-toggleable__label-arrow:before {content: \"▸\";float: left;margin-right: 0.25em;color: #696969;}#sk-container-id-1 label.sk-toggleable__label-arrow:hover:before {color: black;}#sk-container-id-1 div.sk-estimator:hover label.sk-toggleable__label-arrow:before {color: black;}#sk-container-id-1 div.sk-toggleable__content {max-height: 0;max-width: 0;overflow: hidden;text-align: left;background-color: #f0f8ff;}#sk-container-id-1 div.sk-toggleable__content pre {margin: 0.2em;color: black;border-radius: 0.25em;background-color: #f0f8ff;}#sk-container-id-1 input.sk-toggleable__control:checked~div.sk-toggleable__content {max-height: 200px;max-width: 100%;overflow: auto;}#sk-container-id-1 input.sk-toggleable__control:checked~label.sk-toggleable__label-arrow:before {content: \"▾\";}#sk-container-id-1 div.sk-estimator input.sk-toggleable__control:checked~label.sk-toggleable__label {background-color: #d4ebff;}#sk-container-id-1 div.sk-label input.sk-toggleable__control:checked~label.sk-toggleable__label {background-color: #d4ebff;}#sk-container-id-1 input.sk-hidden--visually {border: 0;clip: rect(1px 1px 1px 1px);clip: rect(1px, 1px, 1px, 1px);height: 1px;margin: -1px;overflow: hidden;padding: 0;position: absolute;width: 1px;}#sk-container-id-1 div.sk-estimator {font-family: monospace;background-color: #f0f8ff;border: 1px dotted black;border-radius: 0.25em;box-sizing: border-box;margin-bottom: 0.5em;}#sk-container-id-1 div.sk-estimator:hover {background-color: #d4ebff;}#sk-container-id-1 div.sk-parallel-item::after {content: \"\";width: 100%;border-bottom: 1px solid gray;flex-grow: 1;}#sk-container-id-1 div.sk-label:hover label.sk-toggleable__label {background-color: #d4ebff;}#sk-container-id-1 div.sk-serial::before {content: \"\";position: absolute;border-left: 1px solid gray;box-sizing: border-box;top: 0;bottom: 0;left: 50%;z-index: 0;}#sk-container-id-1 div.sk-serial {display: flex;flex-direction: column;align-items: center;background-color: white;padding-right: 0.2em;padding-left: 0.2em;position: relative;}#sk-container-id-1 div.sk-item {position: relative;z-index: 1;}#sk-container-id-1 div.sk-parallel {display: flex;align-items: stretch;justify-content: center;background-color: white;position: relative;}#sk-container-id-1 div.sk-item::before, #sk-container-id-1 div.sk-parallel-item::before {content: \"\";position: absolute;border-left: 1px solid gray;box-sizing: border-box;top: 0;bottom: 0;left: 50%;z-index: -1;}#sk-container-id-1 div.sk-parallel-item {display: flex;flex-direction: column;z-index: 1;position: relative;background-color: white;}#sk-container-id-1 div.sk-parallel-item:first-child::after {align-self: flex-end;width: 50%;}#sk-container-id-1 div.sk-parallel-item:last-child::after {align-self: flex-start;width: 50%;}#sk-container-id-1 div.sk-parallel-item:only-child::after {width: 0;}#sk-container-id-1 div.sk-dashed-wrapped {border: 1px dashed gray;margin: 0 0.4em 0.5em 0.4em;box-sizing: border-box;padding-bottom: 0.4em;background-color: white;}#sk-container-id-1 div.sk-label label {font-family: monospace;font-weight: bold;display: inline-block;line-height: 1.2em;}#sk-container-id-1 div.sk-label-container {text-align: center;}#sk-container-id-1 div.sk-container {/* jupyter's `normalize.less` sets `[hidden] { display: none; }` but bootstrap.min.css set `[hidden] { display: none !important; }` so we also need the `!important` here to be able to override the default hidden behavior on the sphinx rendered scikit-learn.org. See: https://github.com/scikit-learn/scikit-learn/issues/21755 */display: inline-block !important;position: relative;}#sk-container-id-1 div.sk-text-repr-fallback {display: none;}</style><div id=\"sk-container-id-1\" class=\"sk-top-container\"><div class=\"sk-text-repr-fallback\"><pre>GradientBoostingClassifier()</pre><b>In a Jupyter environment, please rerun this cell to show the HTML representation or trust the notebook. <br />On GitHub, the HTML representation is unable to render, please try loading this page with nbviewer.org.</b></div><div class=\"sk-container\" hidden><div class=\"sk-item\"><div class=\"sk-estimator sk-toggleable\"><input class=\"sk-toggleable__control sk-hidden--visually\" id=\"sk-estimator-id-1\" type=\"checkbox\" checked><label for=\"sk-estimator-id-1\" class=\"sk-toggleable__label sk-toggleable__label-arrow\">GradientBoostingClassifier</label><div class=\"sk-toggleable__content\"><pre>GradientBoostingClassifier()</pre></div></div></div></div></div>"
      ],
      "text/plain": [
       "GradientBoostingClassifier()"
      ]
     },
     "execution_count": 9,
     "metadata": {},
     "output_type": "execute_result"
    }
   ],
   "source": [
    "# Build uplift model using two-model approach\n",
    "# Model 1, treatment group\n",
    "treatment_model = GradientBoostingClassifier()\n",
    "treatment_model.fit(X_train[T_train == 1], Y_train[T_train == 1])\n",
    "\n",
    "# Model 2, control group\n",
    "control_model = GradientBoostingClassifier()\n",
    "control_model.fit(X_train[T_train == 0], Y_train[T_train == 0])"
   ]
  },
  {
   "cell_type": "code",
   "execution_count": 10,
   "id": "b8360304-fa4b-4aa1-9791-9d192a59d61a",
   "metadata": {
    "tags": []
   },
   "outputs": [],
   "source": [
    "# Predict probabilities\n",
    "treatment_proba = treatment_model.predict_proba(X_test)[:, 1]\n",
    "control_proba = control_model.predict_proba(X_test)[:, 1]\n",
    "\n",
    "# Calculate uplift\n",
    "uplift = treatment_proba - control_proba"
   ]
  },
  {
   "cell_type": "code",
   "execution_count": 14,
   "id": "9f9013fc-57e1-4f00-a783-fa07d008473d",
   "metadata": {
    "tags": []
   },
   "outputs": [],
   "source": [
    "# Add uplift scores to customers\n",
    "result = X_test.copy()\n",
    "result['Uplift'] = uplift"
   ]
  },
  {
   "cell_type": "code",
   "execution_count": 15,
   "id": "b9eff08a-9e8f-4068-9144-e581422028a8",
   "metadata": {
    "tags": []
   },
   "outputs": [
    {
     "name": "stdout",
     "output_type": "stream",
     "text": [
      "                 f0         f1        f2        f3    Uplift\n",
      "4264162   25.901424  10.059654  8.214383  4.679882 -0.000036\n",
      "2945016   26.147379  10.059654  8.214383  4.679882 -0.000036\n",
      "11723510  22.713823  10.059654  8.214383  4.679882 -0.000036\n",
      "7808031   26.362339  10.059654  9.029289  4.679882  0.000297\n",
      "11700653  25.084630  10.059654  8.214383  4.679882 -0.000036\n",
      "...             ...        ...       ...       ...       ...\n",
      "13066441  21.985488  10.059654  8.640628  4.679882  0.001326\n",
      "5701053   25.800536  10.059654  8.214383  4.679882 -0.000036\n",
      "5220619   24.518276  10.059654  8.953918  4.679882  0.000347\n",
      "3643570   13.201089  10.059654  8.214383  3.907662 -0.000060\n",
      "11190620  17.255607  10.059654  8.214383  1.114982  0.000052\n",
      "\n",
      "[419388 rows x 5 columns]\n"
     ]
    }
   ],
   "source": [
    "print(result)"
   ]
  },
  {
   "cell_type": "code",
   "execution_count": null,
   "id": "e572953d-6303-43c2-807b-e0b2f707a348",
   "metadata": {},
   "outputs": [],
   "source": []
  },
  {
   "cell_type": "code",
   "execution_count": 19,
   "id": "db7d0a82-6994-4058-9697-114369daabe7",
   "metadata": {
    "tags": []
   },
   "outputs": [],
   "source": [
    "# Validation needs work tbd..."
   ]
  },
  {
   "cell_type": "code",
   "execution_count": 20,
   "id": "e008aed0-31b7-4fff-a992-b812fb8bc886",
   "metadata": {
    "tags": []
   },
   "outputs": [
    {
     "name": "stderr",
     "output_type": "stream",
     "text": [
      "/tmp/ipykernel_11599/2697318753.py:15: RuntimeWarning: invalid value encountered in divide\n",
      "  cum_gain_control = np.cumsum(y_true_sorted * (1 - treatment_sorted)) / n_control\n"
     ]
    },
    {
     "data": {
      "image/png": "[encoded data removed]",
      "text/plain": [
       "<Figure size 1000x600 with 1 Axes>"
      ]
     },
     "metadata": {},
     "output_type": "display_data"
    }
   ],
   "source": [
    "import numpy as np\n",
    "import matplotlib.pyplot as plt\n",
    "from sklearn.metrics import auc\n",
    "\n",
    "def plot_uplift_curve(y_true, uplift, treatment):\n",
    "    # Sort by uplift scores\n",
    "    sorted_indices = np.argsort(uplift)[::-1]\n",
    "    y_true_sorted = y_true[sorted_indices]\n",
    "    treatment_sorted = treatment[sorted_indices]\n",
    "\n",
    "    # Calculate cumulative gains for treatment and control groups\n",
    "    n_treatment = np.cumsum(treatment_sorted)\n",
    "    n_control = np.cumsum(1 - treatment_sorted)\n",
    "    cum_gain_treatment = np.cumsum(y_true_sorted * treatment_sorted) / n_treatment\n",
    "    cum_gain_control = np.cumsum(y_true_sorted * (1 - treatment_sorted)) / n_control\n",
    "\n",
    "    # Calculate uplift curve\n",
    "    uplift_curve = cum_gain_treatment - cum_gain_control\n",
    "\n",
    "    # Plot uplift curve\n",
    "    plt.figure(figsize=(10, 6))\n",
    "    plt.plot(np.arange(len(uplift_curve)), uplift_curve, label='Uplift Curve')\n",
    "    plt.xlabel('Number of Samples')\n",
    "    plt.ylabel('Uplift')\n",
    "    plt.title('Uplift Curve')\n",
    "    plt.legend()\n",
    "    plt.grid(True)\n",
    "    plt.show()\n",
    "\n",
    "# Assuming Y_test, uplift, and T_test are already defined\n",
    "plot_uplift_curve(Y_test.values, uplift, T_test.values)\n"
   ]
  }
 ],
 "metadata": {
  "kernelspec": {
   "display_name": "default:Python",
   "language": "python",
   "name": "conda-env-default-py"
  },
  "language_info": {
   "codemirror_mode": {
    "name": "ipython",
    "version": 3
   },
   "file_extension": ".py",
   "mimetype": "text/x-python",
   "name": "python",
   "nbconvert_exporter": "python",
   "pygments_lexer": "ipython3",
   "version": "3.9.16"
  }
 },
 "nbformat": 4,
 "nbformat_minor": 5
}
