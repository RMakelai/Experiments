{
  "cells": [
    {
      "cell_type": "code",
      "source": [
        "## For experimenting with regression\n",
        "\n",
        "# For some reason, statmodels refuses to install \"easily\"\n",
        "!pip install --upgrade pip\n",
        "!pip install --upgrade statsmodels\n",
        "import sys\n",
        "print(sys.executable)\n",
        "!{sys.executable} -m pip install statsmodels"
      ],
      "outputs": [
        {
          "output_type": "stream",
          "name": "stdout",
          "text": "Requirement already satisfied: pip in /anaconda/envs/azureml_py38/lib/python3.10/site-packages (24.3.1)\nRequirement already satisfied: statsmodels in /anaconda/envs/azureml_py38/lib/python3.10/site-packages (0.14.4)\nRequirement already satisfied: numpy<3,>=1.22.3 in /anaconda/envs/azureml_py38/lib/python3.10/site-packages (from statsmodels) (1.23.5)\nRequirement already satisfied: scipy!=1.9.2,>=1.8 in /anaconda/envs/azureml_py38/lib/python3.10/site-packages (from statsmodels) (1.10.1)\nRequirement already satisfied: pandas!=2.1.0,>=1.4 in /anaconda/envs/azureml_py38/lib/python3.10/site-packages (from statsmodels) (2.2.3)\nRequirement already satisfied: patsy>=0.5.6 in /anaconda/envs/azureml_py38/lib/python3.10/site-packages (from statsmodels) (0.5.6)\nRequirement already satisfied: packaging>=21.3 in /anaconda/envs/azureml_py38/lib/python3.10/site-packages (from statsmodels) (24.1)\nRequirement already satisfied: python-dateutil>=2.8.2 in /anaconda/envs/azureml_py38/lib/python3.10/site-packages (from pandas!=2.1.0,>=1.4->statsmodels) (2.9.0.post0)\nRequirement already satisfied: pytz>=2020.1 in /anaconda/envs/azureml_py38/lib/python3.10/site-packages (from pandas!=2.1.0,>=1.4->statsmodels) (2022.5)\nRequirement already satisfied: tzdata>=2022.7 in /anaconda/envs/azureml_py38/lib/python3.10/site-packages (from pandas!=2.1.0,>=1.4->statsmodels) (2024.1)\nRequirement already satisfied: six in /anaconda/envs/azureml_py38/lib/python3.10/site-packages (from patsy>=0.5.6->statsmodels) (1.16.0)\n/anaconda/envs/azureml_py310_sdkv2/bin/python\nRequirement already satisfied: statsmodels in /anaconda/envs/azureml_py310_sdkv2/lib/python3.10/site-packages (0.14.4)\nRequirement already satisfied: numpy<3,>=1.22.3 in /anaconda/envs/azureml_py310_sdkv2/lib/python3.10/site-packages (from statsmodels) (1.23.5)\nRequirement already satisfied: scipy!=1.9.2,>=1.8 in /anaconda/envs/azureml_py310_sdkv2/lib/python3.10/site-packages (from statsmodels) (1.14.1)\nRequirement already satisfied: pandas!=2.1.0,>=1.4 in /anaconda/envs/azureml_py310_sdkv2/lib/python3.10/site-packages (from statsmodels) (2.2.3)\nRequirement already satisfied: patsy>=0.5.6 in /anaconda/envs/azureml_py310_sdkv2/lib/python3.10/site-packages (from statsmodels) (1.0.1)\nRequirement already satisfied: packaging>=21.3 in /anaconda/envs/azureml_py310_sdkv2/lib/python3.10/site-packages (from statsmodels) (24.1)\nRequirement already satisfied: python-dateutil>=2.8.2 in /anaconda/envs/azureml_py310_sdkv2/lib/python3.10/site-packages (from pandas!=2.1.0,>=1.4->statsmodels) (2.9.0)\nRequirement already satisfied: pytz>=2020.1 in /anaconda/envs/azureml_py310_sdkv2/lib/python3.10/site-packages (from pandas!=2.1.0,>=1.4->statsmodels) (2024.2)\nRequirement already satisfied: tzdata>=2022.7 in /anaconda/envs/azureml_py310_sdkv2/lib/python3.10/site-packages (from pandas!=2.1.0,>=1.4->statsmodels) (2024.1)\nRequirement already satisfied: six>=1.5 in /anaconda/envs/azureml_py310_sdkv2/lib/python3.10/site-packages (from python-dateutil>=2.8.2->pandas!=2.1.0,>=1.4->statsmodels) (1.16.0)\n"
        }
      ],
      "execution_count": 2,
      "metadata": {
        "gather": {
          "logged": 1737101334201
        }
      }
    },
    {
      "cell_type": "code",
      "source": [
        "## Import libraries\n",
        "\n",
        "import numpy as np\n",
        "import pandas as pd\n",
        "import statsmodels.formula.api as smf\n",
        "from sklearn.preprocessing import LabelEncoder\n",
        "from sklearn.model_selection import train_test_split\n",
        "from sklearn import metrics\n",
        "from sklearn.compose import ColumnTransformer\n",
        "from sklearn.pipeline import Pipeline\n",
        "from sklearn.impute import SimpleImputer\n",
        "from sklearn.preprocessing import StandardScaler, OrdinalEncoder\n",
        "from sklearn.ensemble import RandomForestRegressor\n",
        "from sklearn.metrics import mean_squared_error, r2_score\n",
        "import mlflow\n",
        "import matplotlib\n",
        "import matplotlib.pyplot as plt\n",
        "import joblib\n",
        "%matplotlib inline"
      ],
      "outputs": [],
      "execution_count": 3,
      "metadata": {
        "gather": {
          "logged": 1737101342138
        }
      }
    },
    {
      "cell_type": "code",
      "source": [
        "## Get data\n",
        "!wget https://raw.githubusercontent.com/MicrosoftDocs/mslearn-introduction-to-machine-learning/main/Data/doggy-boot-harness.csv\n",
        "\n",
        "df = pd.read_csv('doggy-boot-harness.csv')\n",
        "df.head()"
      ],
      "outputs": [
        {
          "output_type": "stream",
          "name": "stdout",
          "text": "--2025-01-17 08:09:19--  https://raw.githubusercontent.com/MicrosoftDocs/mslearn-introduction-to-machine-learning/main/Data/doggy-boot-harness.csv\nResolving raw.githubusercontent.com (raw.githubusercontent.com)... 185.199.108.133, 185.199.109.133, 185.199.110.133, ...\nConnecting to raw.githubusercontent.com (raw.githubusercontent.com)|185.199.108.133|:443... connected.\nHTTP request sent, awaiting response... 200 OK\nLength: 838 [text/plain]\nSaving to: ‘doggy-boot-harness.csv.3’\n\ndoggy-boot-harness. 100%[===================>]     838  --.-KB/s    in 0s      \n\n2025-01-17 08:09:19 (18.4 MB/s) - ‘doggy-boot-harness.csv.3’ saved [838/838]\n\n"
        },
        {
          "output_type": "execute_result",
          "execution_count": 4,
          "data": {
            "text/plain": "   boot_size  harness_size     sex  age_years\n0         39            58    male       12.0\n1         38            58    male        9.6\n2         37            52  female        8.6\n3         39            58    male       10.2\n4         38            57    male        7.8",
            "text/html": "<div>\n<style scoped>\n    .dataframe tbody tr th:only-of-type {\n        vertical-align: middle;\n    }\n\n    .dataframe tbody tr th {\n        vertical-align: top;\n    }\n\n    .dataframe thead th {\n        text-align: right;\n    }\n</style>\n<table border=\"1\" class=\"dataframe\">\n  <thead>\n    <tr style=\"text-align: right;\">\n      <th></th>\n      <th>boot_size</th>\n      <th>harness_size</th>\n      <th>sex</th>\n      <th>age_years</th>\n    </tr>\n  </thead>\n  <tbody>\n    <tr>\n      <th>0</th>\n      <td>39</td>\n      <td>58</td>\n      <td>male</td>\n      <td>12.0</td>\n    </tr>\n    <tr>\n      <th>1</th>\n      <td>38</td>\n      <td>58</td>\n      <td>male</td>\n      <td>9.6</td>\n    </tr>\n    <tr>\n      <th>2</th>\n      <td>37</td>\n      <td>52</td>\n      <td>female</td>\n      <td>8.6</td>\n    </tr>\n    <tr>\n      <th>3</th>\n      <td>39</td>\n      <td>58</td>\n      <td>male</td>\n      <td>10.2</td>\n    </tr>\n    <tr>\n      <th>4</th>\n      <td>38</td>\n      <td>57</td>\n      <td>male</td>\n      <td>7.8</td>\n    </tr>\n  </tbody>\n</table>\n</div>"
          },
          "metadata": {}
        }
      ],
      "execution_count": 4,
      "metadata": {
        "gather": {
          "logged": 1737101359161
        }
      }
    },
    {
      "cell_type": "code",
      "source": [
        "## Describe target\n",
        "label = df['harness_size']\n",
        "# print(label.value_counts())\n",
        "\n",
        "# Create a figure for 2 subplots (2 rows, 1 column)\n",
        "fig, ax = plt.subplots(2, 1, figsize = (9,12))\n",
        "\n",
        "# Plot the histogram   \n",
        "ax[0].hist(label, bins=100)\n",
        "ax[0].set_ylabel('Frequency')\n",
        "\n",
        "# Add lines for the mean, median, and mode\n",
        "ax[0].axvline(label.mean(), color='magenta', linestyle='dashed', linewidth=2)\n",
        "ax[0].axvline(label.median(), color='cyan', linestyle='dashed', linewidth=2)\n",
        "\n",
        "# Plot the boxplot   \n",
        "ax[1].boxplot(label, vert=False)\n",
        "ax[1].set_xlabel('Label')\n",
        "\n",
        "# Add a title to the Figure\n",
        "fig.suptitle('Label Distribution')\n",
        "\n",
        "# Show the figure\n",
        "fig.show()"
      ],
      "outputs": [
        {
          "output_type": "display_data",
          "data": {
            "text/plain": "<Figure size 900x1200 with 2 Axes>",
            "image/png": "[encoded data removed]"
          },
          "metadata": {}
        }
      ],
      "execution_count": 7,
      "metadata": {
        "gather": {
          "logged": 1737101416168
        }
      }
    },
    {
      "cell_type": "code",
      "source": [
        "## Train regression model\n",
        "formula = \"boot_size ~ harness_size\"\n",
        "\n",
        "model = smf.ols(formula = formula, data = df).fit()"
      ],
      "outputs": [],
      "execution_count": 8,
      "metadata": {
        "gather": {
          "logged": 1737101431182
        }
      }
    },
    {
      "cell_type": "code",
      "source": [
        "# Print model parameters\n",
        "model.params"
      ],
      "outputs": [
        {
          "output_type": "execute_result",
          "execution_count": 9,
          "data": {
            "text/plain": "Intercept       5.719110\nharness_size    0.585925\ndtype: float64"
          },
          "metadata": {}
        }
      ],
      "execution_count": 9,
      "metadata": {
        "gather": {
          "logged": 1737101444130
        }
      }
    },
    {
      "cell_type": "code",
      "source": [
        "\n",
        "plt.scatter(df[\"harness_size\"], df[\"boot_size\"])\n",
        "plt.plot(df[\"harness_size\"], model.params[1] * df[\"harness_size\"] + model.params[0], 'r', label='Fitted line')\n",
        "\n",
        "# add labels and legend\n",
        "plt.xlabel(\"harness_size\")\n",
        "plt.ylabel(\"boot_size\")\n",
        "plt.legend()"
      ],
      "outputs": [],
      "execution_count": null,
      "metadata": {
        "gather": {
          "logged": 1737101240020
        }
      }
    }
  ],
  "metadata": {
    "kernelspec": {
      "name": "python310-sdkv2",
      "language": "python",
      "display_name": "Python 3.10 - SDK v2"
    },
    "language_info": {
      "name": "python",
      "version": "3.10.14",
      "mimetype": "text/x-python",
      "codemirror_mode": {
        "name": "ipython",
        "version": 3
      },
      "pygments_lexer": "ipython3",
      "nbconvert_exporter": "python",
      "file_extension": ".py"
    },
    "microsoft": {
      "ms_spell_check": {
        "ms_spell_check_language": "en"
      },
      "host": {
        "AzureML": {
          "notebookHasBeenCompleted": true
        }
      }
    },
    "kernel_info": {
      "name": "python310-sdkv2"
    },
    "nteract": {
      "version": "nteract-front-end@1.0.0"
    }
  },
  "nbformat": 4,
  "nbformat_minor": 2
}