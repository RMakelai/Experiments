{
 "cells": [
  {
   "cell_type": "code",
   "execution_count": 1,
   "metadata": {
    "gather": {
     "logged": 1737101334201
    },
    "tags": []
   },
   "outputs": [
    {
     "name": "stdout",
     "output_type": "stream",
     "text": [
      "Requirement already satisfied: pip in /home/studio-lab-user/.conda/envs/default/lib/python3.9/site-packages (25.0.1)\n",
      "Requirement already satisfied: statsmodels in /home/studio-lab-user/.conda/envs/default/lib/python3.9/site-packages (0.14.4)\n",
      "Requirement already satisfied: numpy<3,>=1.22.3 in /home/studio-lab-user/.conda/envs/default/lib/python3.9/site-packages (from statsmodels) (1.24.0)\n",
      "Requirement already satisfied: scipy!=1.9.2,>=1.8 in /home/studio-lab-user/.conda/envs/default/lib/python3.9/site-packages (from statsmodels) (1.11.2)\n",
      "Requirement already satisfied: pandas!=2.1.0,>=1.4 in /home/studio-lab-user/.conda/envs/default/lib/python3.9/site-packages (from statsmodels) (2.0.3)\n",
      "Requirement already satisfied: patsy>=0.5.6 in /home/studio-lab-user/.conda/envs/default/lib/python3.9/site-packages (from statsmodels) (1.0.1)\n",
      "Requirement already satisfied: packaging>=21.3 in /home/studio-lab-user/.conda/envs/default/lib/python3.9/site-packages (from statsmodels) (23.0)\n",
      "Requirement already satisfied: python-dateutil>=2.8.2 in /home/studio-lab-user/.conda/envs/default/lib/python3.9/site-packages (from pandas!=2.1.0,>=1.4->statsmodels) (2.8.2)\n",
      "Requirement already satisfied: pytz>=2020.1 in /home/studio-lab-user/.conda/envs/default/lib/python3.9/site-packages (from pandas!=2.1.0,>=1.4->statsmodels) (2023.3)\n",
      "Requirement already satisfied: tzdata>=2022.1 in /home/studio-lab-user/.conda/envs/default/lib/python3.9/site-packages (from pandas!=2.1.0,>=1.4->statsmodels) (2023.3)\n",
      "Requirement already satisfied: six>=1.5 in /home/studio-lab-user/.conda/envs/default/lib/python3.9/site-packages (from python-dateutil>=2.8.2->pandas!=2.1.0,>=1.4->statsmodels) (1.16.0)\n",
      "Requirement already satisfied: mlflow in /home/studio-lab-user/.conda/envs/default/lib/python3.9/site-packages (2.20.2)\n",
      "Requirement already satisfied: mlflow-skinny==2.20.2 in /home/studio-lab-user/.conda/envs/default/lib/python3.9/site-packages (from mlflow) (2.20.2)\n",
      "Requirement already satisfied: Flask<4 in /home/studio-lab-user/.conda/envs/default/lib/python3.9/site-packages (from mlflow) (3.1.0)\n",
      "Requirement already satisfied: Jinja2<4,>=2.11 in /home/studio-lab-user/.conda/envs/default/lib/python3.9/site-packages (from mlflow) (3.1.2)\n",
      "Requirement already satisfied: alembic!=1.10.0,<2 in /home/studio-lab-user/.conda/envs/default/lib/python3.9/site-packages (from mlflow) (1.14.1)\n",
      "Requirement already satisfied: docker<8,>=4.0.0 in /home/studio-lab-user/.conda/envs/default/lib/python3.9/site-packages (from mlflow) (7.1.0)\n",
      "Requirement already satisfied: graphene<4 in /home/studio-lab-user/.conda/envs/default/lib/python3.9/site-packages (from mlflow) (3.4.3)\n",
      "Requirement already satisfied: gunicorn<24 in /home/studio-lab-user/.conda/envs/default/lib/python3.9/site-packages (from mlflow) (23.0.0)\n",
      "Requirement already satisfied: markdown<4,>=3.3 in /home/studio-lab-user/.conda/envs/default/lib/python3.9/site-packages (from mlflow) (3.7)\n",
      "Requirement already satisfied: matplotlib<4 in /home/studio-lab-user/.conda/envs/default/lib/python3.9/site-packages (from mlflow) (3.7.2)\n",
      "Requirement already satisfied: numpy<3 in /home/studio-lab-user/.conda/envs/default/lib/python3.9/site-packages (from mlflow) (1.24.0)\n",
      "Requirement already satisfied: pandas<3 in /home/studio-lab-user/.conda/envs/default/lib/python3.9/site-packages (from mlflow) (2.0.3)\n",
      "Requirement already satisfied: pyarrow<19,>=4.0.0 in /home/studio-lab-user/.conda/envs/default/lib/python3.9/site-packages (from mlflow) (13.0.0)\n",
      "Requirement already satisfied: scikit-learn<2 in /home/studio-lab-user/.conda/envs/default/lib/python3.9/site-packages (from mlflow) (1.3.0)\n",
      "Requirement already satisfied: scipy<2 in /home/studio-lab-user/.conda/envs/default/lib/python3.9/site-packages (from mlflow) (1.11.2)\n",
      "Requirement already satisfied: sqlalchemy<3,>=1.4.0 in /home/studio-lab-user/.conda/envs/default/lib/python3.9/site-packages (from mlflow) (2.0.38)\n",
      "Requirement already satisfied: cachetools<6,>=5.0.0 in /home/studio-lab-user/.conda/envs/default/lib/python3.9/site-packages (from mlflow-skinny==2.20.2->mlflow) (5.5.1)\n",
      "Requirement already satisfied: click<9,>=7.0 in /home/studio-lab-user/.conda/envs/default/lib/python3.9/site-packages (from mlflow-skinny==2.20.2->mlflow) (8.1.7)\n",
      "Requirement already satisfied: cloudpickle<4 in /home/studio-lab-user/.conda/envs/default/lib/python3.9/site-packages (from mlflow-skinny==2.20.2->mlflow) (2.2.1)\n",
      "Requirement already satisfied: databricks-sdk<1,>=0.20.0 in /home/studio-lab-user/.conda/envs/default/lib/python3.9/site-packages (from mlflow-skinny==2.20.2->mlflow) (0.44.1)\n",
      "Requirement already satisfied: gitpython<4,>=3.1.9 in /home/studio-lab-user/.conda/envs/default/lib/python3.9/site-packages (from mlflow-skinny==2.20.2->mlflow) (3.1.44)\n",
      "Requirement already satisfied: importlib_metadata!=4.7.0,<9,>=3.7.0 in /home/studio-lab-user/.conda/envs/default/lib/python3.9/site-packages (from mlflow-skinny==2.20.2->mlflow) (6.1.0)\n",
      "Requirement already satisfied: opentelemetry-api<3,>=1.9.0 in /home/studio-lab-user/.conda/envs/default/lib/python3.9/site-packages (from mlflow-skinny==2.20.2->mlflow) (1.30.0)\n",
      "Requirement already satisfied: opentelemetry-sdk<3,>=1.9.0 in /home/studio-lab-user/.conda/envs/default/lib/python3.9/site-packages (from mlflow-skinny==2.20.2->mlflow) (1.30.0)\n",
      "Requirement already satisfied: packaging<25 in /home/studio-lab-user/.conda/envs/default/lib/python3.9/site-packages (from mlflow-skinny==2.20.2->mlflow) (23.0)\n",
      "Requirement already satisfied: protobuf<6,>=3.12.0 in /home/studio-lab-user/.conda/envs/default/lib/python3.9/site-packages (from mlflow-skinny==2.20.2->mlflow) (5.29.3)\n",
      "Requirement already satisfied: pydantic<3,>=1.10.8 in /home/studio-lab-user/.conda/envs/default/lib/python3.9/site-packages (from mlflow-skinny==2.20.2->mlflow) (2.3.0)\n",
      "Requirement already satisfied: pyyaml<7,>=5.1 in /home/studio-lab-user/.conda/envs/default/lib/python3.9/site-packages (from mlflow-skinny==2.20.2->mlflow) (6.0)\n",
      "Requirement already satisfied: requests<3,>=2.17.3 in /home/studio-lab-user/.conda/envs/default/lib/python3.9/site-packages (from mlflow-skinny==2.20.2->mlflow) (2.31.0)\n",
      "Requirement already satisfied: sqlparse<1,>=0.4.0 in /home/studio-lab-user/.conda/envs/default/lib/python3.9/site-packages (from mlflow-skinny==2.20.2->mlflow) (0.5.3)\n",
      "Requirement already satisfied: typing-extensions<5,>=4.0.0 in /home/studio-lab-user/.conda/envs/default/lib/python3.9/site-packages (from mlflow-skinny==2.20.2->mlflow) (4.7.1)\n",
      "Requirement already satisfied: Mako in /home/studio-lab-user/.conda/envs/default/lib/python3.9/site-packages (from alembic!=1.10.0,<2->mlflow) (1.3.9)\n",
      "Requirement already satisfied: urllib3>=1.26.0 in /home/studio-lab-user/.conda/envs/default/lib/python3.9/site-packages (from docker<8,>=4.0.0->mlflow) (2.0.4)\n",
      "Requirement already satisfied: Werkzeug>=3.1 in /home/studio-lab-user/.conda/envs/default/lib/python3.9/site-packages (from Flask<4->mlflow) (3.1.3)\n",
      "Requirement already satisfied: itsdangerous>=2.2 in /home/studio-lab-user/.conda/envs/default/lib/python3.9/site-packages (from Flask<4->mlflow) (2.2.0)\n",
      "Requirement already satisfied: blinker>=1.9 in /home/studio-lab-user/.conda/envs/default/lib/python3.9/site-packages (from Flask<4->mlflow) (1.9.0)\n",
      "Requirement already satisfied: graphql-core<3.3,>=3.1 in /home/studio-lab-user/.conda/envs/default/lib/python3.9/site-packages (from graphene<4->mlflow) (3.2.6)\n",
      "Requirement already satisfied: graphql-relay<3.3,>=3.1 in /home/studio-lab-user/.conda/envs/default/lib/python3.9/site-packages (from graphene<4->mlflow) (3.2.0)\n",
      "Requirement already satisfied: python-dateutil<3,>=2.7.0 in /home/studio-lab-user/.conda/envs/default/lib/python3.9/site-packages (from graphene<4->mlflow) (2.8.2)\n",
      "Requirement already satisfied: MarkupSafe>=2.0 in /home/studio-lab-user/.conda/envs/default/lib/python3.9/site-packages (from Jinja2<4,>=2.11->mlflow) (2.1.2)\n",
      "Requirement already satisfied: contourpy>=1.0.1 in /home/studio-lab-user/.conda/envs/default/lib/python3.9/site-packages (from matplotlib<4->mlflow) (1.1.0)\n",
      "Requirement already satisfied: cycler>=0.10 in /home/studio-lab-user/.conda/envs/default/lib/python3.9/site-packages (from matplotlib<4->mlflow) (0.11.0)\n",
      "Requirement already satisfied: fonttools>=4.22.0 in /home/studio-lab-user/.conda/envs/default/lib/python3.9/site-packages (from matplotlib<4->mlflow) (4.42.1)\n",
      "Requirement already satisfied: kiwisolver>=1.0.1 in /home/studio-lab-user/.conda/envs/default/lib/python3.9/site-packages (from matplotlib<4->mlflow) (1.4.5)\n",
      "Requirement already satisfied: pillow>=6.2.0 in /home/studio-lab-user/.conda/envs/default/lib/python3.9/site-packages (from matplotlib<4->mlflow) (10.0.0)\n",
      "Requirement already satisfied: pyparsing<3.1,>=2.3.1 in /home/studio-lab-user/.conda/envs/default/lib/python3.9/site-packages (from matplotlib<4->mlflow) (3.0.9)\n",
      "Requirement already satisfied: importlib-resources>=3.2.0 in /home/studio-lab-user/.conda/envs/default/lib/python3.9/site-packages (from matplotlib<4->mlflow) (5.12.0)\n",
      "Requirement already satisfied: pytz>=2020.1 in /home/studio-lab-user/.conda/envs/default/lib/python3.9/site-packages (from pandas<3->mlflow) (2023.3)\n",
      "Requirement already satisfied: tzdata>=2022.1 in /home/studio-lab-user/.conda/envs/default/lib/python3.9/site-packages (from pandas<3->mlflow) (2023.3)\n",
      "Requirement already satisfied: joblib>=1.1.1 in /home/studio-lab-user/.conda/envs/default/lib/python3.9/site-packages (from scikit-learn<2->mlflow) (1.3.2)\n",
      "Requirement already satisfied: threadpoolctl>=2.0.0 in /home/studio-lab-user/.conda/envs/default/lib/python3.9/site-packages (from scikit-learn<2->mlflow) (3.2.0)\n",
      "Requirement already satisfied: greenlet!=0.4.17 in /home/studio-lab-user/.conda/envs/default/lib/python3.9/site-packages (from sqlalchemy<3,>=1.4.0->mlflow) (3.1.1)\n",
      "Requirement already satisfied: google-auth~=2.0 in /home/studio-lab-user/.conda/envs/default/lib/python3.9/site-packages (from databricks-sdk<1,>=0.20.0->mlflow-skinny==2.20.2->mlflow) (2.38.0)\n",
      "Requirement already satisfied: gitdb<5,>=4.0.1 in /home/studio-lab-user/.conda/envs/default/lib/python3.9/site-packages (from gitpython<4,>=3.1.9->mlflow-skinny==2.20.2->mlflow) (4.0.12)\n",
      "Requirement already satisfied: zipp>=0.5 in /home/studio-lab-user/.conda/envs/default/lib/python3.9/site-packages (from importlib_metadata!=4.7.0,<9,>=3.7.0->mlflow-skinny==2.20.2->mlflow) (3.15.0)\n",
      "Requirement already satisfied: deprecated>=1.2.6 in /home/studio-lab-user/.conda/envs/default/lib/python3.9/site-packages (from opentelemetry-api<3,>=1.9.0->mlflow-skinny==2.20.2->mlflow) (1.2.18)\n",
      "Requirement already satisfied: opentelemetry-semantic-conventions==0.51b0 in /home/studio-lab-user/.conda/envs/default/lib/python3.9/site-packages (from opentelemetry-sdk<3,>=1.9.0->mlflow-skinny==2.20.2->mlflow) (0.51b0)\n",
      "Requirement already satisfied: annotated-types>=0.4.0 in /home/studio-lab-user/.conda/envs/default/lib/python3.9/site-packages (from pydantic<3,>=1.10.8->mlflow-skinny==2.20.2->mlflow) (0.5.0)\n",
      "Requirement already satisfied: pydantic-core==2.6.3 in /home/studio-lab-user/.conda/envs/default/lib/python3.9/site-packages (from pydantic<3,>=1.10.8->mlflow-skinny==2.20.2->mlflow) (2.6.3)\n",
      "Requirement already satisfied: six>=1.5 in /home/studio-lab-user/.conda/envs/default/lib/python3.9/site-packages (from python-dateutil<3,>=2.7.0->graphene<4->mlflow) (1.16.0)\n",
      "Requirement already satisfied: charset-normalizer<4,>=2 in /home/studio-lab-user/.conda/envs/default/lib/python3.9/site-packages (from requests<3,>=2.17.3->mlflow-skinny==2.20.2->mlflow) (3.2.0)\n",
      "Requirement already satisfied: idna<4,>=2.5 in /home/studio-lab-user/.conda/envs/default/lib/python3.9/site-packages (from requests<3,>=2.17.3->mlflow-skinny==2.20.2->mlflow) (3.4)\n",
      "Requirement already satisfied: certifi>=2017.4.17 in /home/studio-lab-user/.conda/envs/default/lib/python3.9/site-packages (from requests<3,>=2.17.3->mlflow-skinny==2.20.2->mlflow) (2023.7.22)\n",
      "Requirement already satisfied: wrapt<2,>=1.10 in /home/studio-lab-user/.conda/envs/default/lib/python3.9/site-packages (from deprecated>=1.2.6->opentelemetry-api<3,>=1.9.0->mlflow-skinny==2.20.2->mlflow) (1.17.2)\n",
      "Requirement already satisfied: smmap<6,>=3.0.1 in /home/studio-lab-user/.conda/envs/default/lib/python3.9/site-packages (from gitdb<5,>=4.0.1->gitpython<4,>=3.1.9->mlflow-skinny==2.20.2->mlflow) (5.0.2)\n",
      "Requirement already satisfied: pyasn1-modules>=0.2.1 in /home/studio-lab-user/.conda/envs/default/lib/python3.9/site-packages (from google-auth~=2.0->databricks-sdk<1,>=0.20.0->mlflow-skinny==2.20.2->mlflow) (0.4.1)\n",
      "Requirement already satisfied: rsa<5,>=3.1.4 in /home/studio-lab-user/.conda/envs/default/lib/python3.9/site-packages (from google-auth~=2.0->databricks-sdk<1,>=0.20.0->mlflow-skinny==2.20.2->mlflow) (4.9)\n",
      "Requirement already satisfied: pyasn1<0.7.0,>=0.4.6 in /home/studio-lab-user/.conda/envs/default/lib/python3.9/site-packages (from pyasn1-modules>=0.2.1->google-auth~=2.0->databricks-sdk<1,>=0.20.0->mlflow-skinny==2.20.2->mlflow) (0.6.1)\n",
      "/home/studio-lab-user/.conda/envs/default/bin/python\n",
      "Requirement already satisfied: statsmodels in /home/studio-lab-user/.conda/envs/default/lib/python3.9/site-packages (0.14.4)\n",
      "Requirement already satisfied: numpy<3,>=1.22.3 in /home/studio-lab-user/.conda/envs/default/lib/python3.9/site-packages (from statsmodels) (1.24.0)\n",
      "Requirement already satisfied: scipy!=1.9.2,>=1.8 in /home/studio-lab-user/.conda/envs/default/lib/python3.9/site-packages (from statsmodels) (1.11.2)\n",
      "Requirement already satisfied: pandas!=2.1.0,>=1.4 in /home/studio-lab-user/.conda/envs/default/lib/python3.9/site-packages (from statsmodels) (2.0.3)\n",
      "Requirement already satisfied: patsy>=0.5.6 in /home/studio-lab-user/.conda/envs/default/lib/python3.9/site-packages (from statsmodels) (1.0.1)\n",
      "Requirement already satisfied: packaging>=21.3 in /home/studio-lab-user/.conda/envs/default/lib/python3.9/site-packages (from statsmodels) (23.0)\n",
      "Requirement already satisfied: python-dateutil>=2.8.2 in /home/studio-lab-user/.conda/envs/default/lib/python3.9/site-packages (from pandas!=2.1.0,>=1.4->statsmodels) (2.8.2)\n",
      "Requirement already satisfied: pytz>=2020.1 in /home/studio-lab-user/.conda/envs/default/lib/python3.9/site-packages (from pandas!=2.1.0,>=1.4->statsmodels) (2023.3)\n",
      "Requirement already satisfied: tzdata>=2022.1 in /home/studio-lab-user/.conda/envs/default/lib/python3.9/site-packages (from pandas!=2.1.0,>=1.4->statsmodels) (2023.3)\n",
      "Requirement already satisfied: six>=1.5 in /home/studio-lab-user/.conda/envs/default/lib/python3.9/site-packages (from python-dateutil>=2.8.2->pandas!=2.1.0,>=1.4->statsmodels) (1.16.0)\n"
     ]
    }
   ],
   "source": [
    "## For experimenting with regression\n",
    "\n",
    "# For some reason, statmodels refuses to install \"easily\"\n",
    "!pip install --upgrade pip\n",
    "!pip install --upgrade statsmodels\n",
    "!pip install --upgrade mlflow\n",
    "import sys\n",
    "print(sys.executable)\n",
    "!{sys.executable} -m pip install statsmodels"
   ]
  },
  {
   "cell_type": "code",
   "execution_count": 2,
   "metadata": {
    "gather": {
     "logged": 1737101342138
    },
    "tags": []
   },
   "outputs": [],
   "source": [
    "## Import libraries\n",
    "\n",
    "import numpy as np\n",
    "import pandas as pd\n",
    "import statsmodels.formula.api as smf\n",
    "import statsmodels.api as sm\n",
    "from sklearn.preprocessing import LabelEncoder\n",
    "from sklearn.model_selection import train_test_split\n",
    "from sklearn import metrics\n",
    "from sklearn.compose import ColumnTransformer\n",
    "from sklearn.pipeline import Pipeline\n",
    "from sklearn.impute import SimpleImputer\n",
    "from sklearn.preprocessing import StandardScaler, OrdinalEncoder\n",
    "from sklearn.ensemble import RandomForestRegressor\n",
    "from sklearn.metrics import mean_squared_error, r2_score\n",
    "from sklearn.linear_model import LinearRegression\n",
    "import mlflow\n",
    "import matplotlib\n",
    "import matplotlib.pyplot as plt\n",
    "import joblib\n",
    "%matplotlib inline"
   ]
  },
  {
   "cell_type": "code",
   "execution_count": 3,
   "metadata": {
    "gather": {
     "logged": 1737101359161
    },
    "tags": []
   },
   "outputs": [
    {
     "name": "stdout",
     "output_type": "stream",
     "text": [
      "--2025-02-18 11:46:34--  https://raw.githubusercontent.com/MicrosoftDocs/mslearn-introduction-to-machine-learning/main/Data/doggy-boot-harness.csv\n",
      "Resolving raw.githubusercontent.com (raw.githubusercontent.com)... 185.199.108.133, 185.199.109.133, 185.199.110.133, ...\n",
      "Connecting to raw.githubusercontent.com (raw.githubusercontent.com)|185.199.108.133|:443... connected.\n",
      "HTTP request sent, awaiting response... 200 OK\n",
      "Length: 838 [text/plain]\n",
      "Saving to: 'doggy-boot-harness.csv.1'\n",
      "\n",
      "doggy-boot-harness. 100%[===================>]     838  --.-KB/s    in 0s      \n",
      "\n",
      "2025-02-18 11:46:34 (43.7 MB/s) - 'doggy-boot-harness.csv.1' saved [838/838]\n",
      "\n"
     ]
    },
    {
     "data": {
      "text/html": [
       "<div>\n",
       "<style scoped>\n",
       "    .dataframe tbody tr th:only-of-type {\n",
       "        vertical-align: middle;\n",
       "    }\n",
       "\n",
       "    .dataframe tbody tr th {\n",
       "        vertical-align: top;\n",
       "    }\n",
       "\n",
       "    .dataframe thead th {\n",
       "        text-align: right;\n",
       "    }\n",
       "</style>\n",
       "<table border=\"1\" class=\"dataframe\">\n",
       "  <thead>\n",
       "    <tr style=\"text-align: right;\">\n",
       "      <th></th>\n",
       "      <th>boot_size</th>\n",
       "      <th>harness_size</th>\n",
       "      <th>sex</th>\n",
       "      <th>age_years</th>\n",
       "    </tr>\n",
       "  </thead>\n",
       "  <tbody>\n",
       "    <tr>\n",
       "      <th>0</th>\n",
       "      <td>39</td>\n",
       "      <td>58</td>\n",
       "      <td>male</td>\n",
       "      <td>12.0</td>\n",
       "    </tr>\n",
       "    <tr>\n",
       "      <th>1</th>\n",
       "      <td>38</td>\n",
       "      <td>58</td>\n",
       "      <td>male</td>\n",
       "      <td>9.6</td>\n",
       "    </tr>\n",
       "    <tr>\n",
       "      <th>2</th>\n",
       "      <td>37</td>\n",
       "      <td>52</td>\n",
       "      <td>female</td>\n",
       "      <td>8.6</td>\n",
       "    </tr>\n",
       "    <tr>\n",
       "      <th>3</th>\n",
       "      <td>39</td>\n",
       "      <td>58</td>\n",
       "      <td>male</td>\n",
       "      <td>10.2</td>\n",
       "    </tr>\n",
       "    <tr>\n",
       "      <th>4</th>\n",
       "      <td>38</td>\n",
       "      <td>57</td>\n",
       "      <td>male</td>\n",
       "      <td>7.8</td>\n",
       "    </tr>\n",
       "  </tbody>\n",
       "</table>\n",
       "</div>"
      ],
      "text/plain": [
       "   boot_size  harness_size     sex  age_years\n",
       "0         39            58    male       12.0\n",
       "1         38            58    male        9.6\n",
       "2         37            52  female        8.6\n",
       "3         39            58    male       10.2\n",
       "4         38            57    male        7.8"
      ]
     },
     "execution_count": 3,
     "metadata": {},
     "output_type": "execute_result"
    }
   ],
   "source": [
    "## Get data\n",
    "!wget https://raw.githubusercontent.com/MicrosoftDocs/mslearn-introduction-to-machine-learning/main/Data/doggy-boot-harness.csv\n",
    "\n",
    "df = pd.read_csv('doggy-boot-harness.csv')\n",
    "df.head()"
   ]
  },
  {
   "cell_type": "code",
   "execution_count": 4,
   "metadata": {
    "gather": {
     "logged": 1737101416168
    },
    "tags": []
   },
   "outputs": [
    {
     "data": {
      "image/png": "[encoded data removed]",
      "text/plain": [
       "<Figure size 900x1200 with 2 Axes>"
      ]
     },
     "metadata": {},
     "output_type": "display_data"
    }
   ],
   "source": [
    "## Describe target\n",
    "label = df['harness_size']\n",
    "# print(label.value_counts())\n",
    "\n",
    "# Create a figure for 2 subplots (2 rows, 1 column)\n",
    "fig, ax = plt.subplots(2, 1, figsize = (9,12))\n",
    "\n",
    "# Plot the histogram   \n",
    "ax[0].hist(label, bins=100)\n",
    "ax[0].set_ylabel('Frequency')\n",
    "\n",
    "# Add lines for the mean, median, and mode\n",
    "ax[0].axvline(label.mean(), color='magenta', linestyle='dashed', linewidth=2)\n",
    "ax[0].axvline(label.median(), color='cyan', linestyle='dashed', linewidth=2)\n",
    "\n",
    "# Plot the boxplot   \n",
    "ax[1].boxplot(label, vert=False)\n",
    "ax[1].set_xlabel('Label')\n",
    "\n",
    "# Add a title to the Figure\n",
    "fig.suptitle('Label Distribution')\n",
    "\n",
    "# Show the figure\n",
    "fig.show()"
   ]
  },
  {
   "cell_type": "code",
   "execution_count": 5,
   "metadata": {
    "gather": {
     "logged": 1737101431182
    },
    "tags": []
   },
   "outputs": [],
   "source": [
    "## Train regression model\n",
    "formula = \"boot_size ~ harness_size\"\n",
    "\n",
    "model = smf.ols(formula = formula, data = df).fit()"
   ]
  },
  {
   "cell_type": "code",
   "execution_count": 6,
   "metadata": {
    "gather": {
     "logged": 1737101444130
    },
    "tags": []
   },
   "outputs": [
    {
     "data": {
      "text/plain": [
       "Intercept       5.719110\n",
       "harness_size    0.585925\n",
       "dtype: float64"
      ]
     },
     "execution_count": 6,
     "metadata": {},
     "output_type": "execute_result"
    }
   ],
   "source": [
    "# Print model parameters\n",
    "model.params"
   ]
  },
  {
   "cell_type": "code",
   "execution_count": 7,
   "metadata": {
    "gather": {
     "logged": 1737101240020
    },
    "tags": []
   },
   "outputs": [
    {
     "data": {
      "text/plain": [
       "<matplotlib.legend.Legend at 0x7fa16ca0d550>"
      ]
     },
     "execution_count": 7,
     "metadata": {},
     "output_type": "execute_result"
    },
    {
     "data": {
      "image/png": "[encoded data removed]",
      "text/plain": [
       "<Figure size 640x480 with 1 Axes>"
      ]
     },
     "metadata": {},
     "output_type": "display_data"
    }
   ],
   "source": [
    "\n",
    "plt.scatter(df[\"harness_size\"], df[\"boot_size\"])\n",
    "plt.plot(df[\"harness_size\"], model.params[1] * df[\"harness_size\"] + model.params[0], 'r', label='Fitted line')\n",
    "\n",
    "# add labels and legend\n",
    "plt.xlabel(\"harness_size\")\n",
    "plt.ylabel(\"boot_size\")\n",
    "plt.legend()"
   ]
  },
  {
   "cell_type": "code",
   "execution_count": 8,
   "metadata": {
    "tags": []
   },
   "outputs": [
    {
     "name": "stdout",
     "output_type": "stream",
     "text": [
      "Coefficients: [[0.97109086]]\n",
      "Intercept: [18.42779835]\n",
      "R-squared: 0.5689868152575153\n",
      "Predictions: [[56.30034178]\n",
      " [55.32925093]\n",
      " [54.35816007]\n",
      " [56.30034178]\n",
      " [55.32925093]\n",
      " [52.41597835]\n",
      " [54.35816007]\n",
      " [53.38706921]\n",
      " [52.41597835]\n",
      " [57.27143264]\n",
      " [57.27143264]\n",
      " [53.38706921]\n",
      " [55.32925093]\n",
      " [56.30034178]\n",
      " [59.21361435]\n",
      " [59.21361435]\n",
      " [53.38706921]\n",
      " [53.38706921]\n",
      " [52.41597835]\n",
      " [58.2425235 ]\n",
      " [59.21361435]\n",
      " [55.32925093]\n",
      " [54.35816007]\n",
      " [52.41597835]\n",
      " [57.27143264]\n",
      " [53.38706921]\n",
      " [52.41597835]\n",
      " [56.30034178]\n",
      " [58.2425235 ]\n",
      " [54.35816007]\n",
      " [52.41597835]\n",
      " [58.2425235 ]\n",
      " [56.30034178]\n",
      " [58.2425235 ]\n",
      " [59.21361435]\n",
      " [59.21361435]\n",
      " [53.38706921]\n",
      " [54.35816007]\n",
      " [54.35816007]\n",
      " [56.30034178]\n",
      " [59.21361435]\n",
      " [52.41597835]\n",
      " [53.38706921]\n",
      " [58.2425235 ]\n",
      " [58.2425235 ]\n",
      " [58.2425235 ]\n",
      " [56.30034178]\n",
      " [56.30034178]\n",
      " [52.41597835]\n",
      " [56.30034178]]\n"
     ]
    }
   ],
   "source": [
    "# Model\n",
    "model2 = LinearRegression()\n",
    "model2.fit(df[[\"boot_size\"]], df[[\"harness_size\"]])\n",
    "\n",
    "# Print results\n",
    "print(\"Coefficients:\", model2.coef_)\n",
    "print(\"Intercept:\", model2.intercept_)\n",
    "r_squared = model2.score(df[[\"boot_size\"]], df[\"harness_size\"])\n",
    "print(\"R-squared:\", r_squared)\n",
    "predictions = model2.predict(df[[\"boot_size\"]])\n",
    "print(\"Predictions:\", predictions)"
   ]
  },
  {
   "cell_type": "code",
   "execution_count": 9,
   "metadata": {
    "tags": []
   },
   "outputs": [
    {
     "data": {
      "text/html": [
       "<table class=\"simpletable\">\n",
       "<caption>OLS Regression Results</caption>\n",
       "<tr>\n",
       "  <th>Dep. Variable:</th>        <td>boot_size</td>    <th>  R-squared:         </th> <td>   0.569</td>\n",
       "</tr>\n",
       "<tr>\n",
       "  <th>Model:</th>                   <td>OLS</td>       <th>  Adj. R-squared:    </th> <td>   0.560</td>\n",
       "</tr>\n",
       "<tr>\n",
       "  <th>Method:</th>             <td>Least Squares</td>  <th>  F-statistic:       </th> <td>   63.37</td>\n",
       "</tr>\n",
       "<tr>\n",
       "  <th>Date:</th>             <td>Tue, 18 Feb 2025</td> <th>  Prob (F-statistic):</th> <td>2.53e-10</td>\n",
       "</tr>\n",
       "<tr>\n",
       "  <th>Time:</th>                 <td>11:46:50</td>     <th>  Log-Likelihood:    </th> <td> -93.054</td>\n",
       "</tr>\n",
       "<tr>\n",
       "  <th>No. Observations:</th>      <td>    50</td>      <th>  AIC:               </th> <td>   190.1</td>\n",
       "</tr>\n",
       "<tr>\n",
       "  <th>Df Residuals:</th>          <td>    48</td>      <th>  BIC:               </th> <td>   193.9</td>\n",
       "</tr>\n",
       "<tr>\n",
       "  <th>Df Model:</th>              <td>     1</td>      <th>                     </th>     <td> </td>   \n",
       "</tr>\n",
       "<tr>\n",
       "  <th>Covariance Type:</th>      <td>nonrobust</td>    <th>                     </th>     <td> </td>   \n",
       "</tr>\n",
       "</table>\n",
       "<table class=\"simpletable\">\n",
       "<tr>\n",
       "        <td></td>          <th>coef</th>     <th>std err</th>      <th>t</th>      <th>P>|t|</th>  <th>[0.025</th>    <th>0.975]</th>  \n",
       "</tr>\n",
       "<tr>\n",
       "  <th>harness_size</th> <td>    0.5859</td> <td>    0.074</td> <td>    7.960</td> <td> 0.000</td> <td>    0.438</td> <td>    0.734</td>\n",
       "</tr>\n",
       "<tr>\n",
       "  <th>const</th>        <td>    5.7191</td> <td>    4.102</td> <td>    1.394</td> <td> 0.170</td> <td>   -2.528</td> <td>   13.966</td>\n",
       "</tr>\n",
       "</table>\n",
       "<table class=\"simpletable\">\n",
       "<tr>\n",
       "  <th>Omnibus:</th>       <td> 2.715</td> <th>  Durbin-Watson:     </th> <td>   1.717</td>\n",
       "</tr>\n",
       "<tr>\n",
       "  <th>Prob(Omnibus):</th> <td> 0.257</td> <th>  Jarque-Bera (JB):  </th> <td>   1.758</td>\n",
       "</tr>\n",
       "<tr>\n",
       "  <th>Skew:</th>          <td> 0.228</td> <th>  Prob(JB):          </th> <td>   0.415</td>\n",
       "</tr>\n",
       "<tr>\n",
       "  <th>Kurtosis:</th>      <td> 2.203</td> <th>  Cond. No.          </th> <td>1.02e+03</td>\n",
       "</tr>\n",
       "</table><br/><br/>Notes:<br/>[1] Standard Errors assume that the covariance matrix of the errors is correctly specified.<br/>[2] The condition number is large, 1.02e+03. This might indicate that there are<br/>strong multicollinearity or other numerical problems."
      ],
      "text/latex": [
       "\\begin{center}\n",
       "\\begin{tabular}{lclc}\n",
       "\\toprule\n",
       "\\textbf{Dep. Variable:}    &    boot\\_size    & \\textbf{  R-squared:         } &     0.569   \\\\\n",
       "\\textbf{Model:}            &       OLS        & \\textbf{  Adj. R-squared:    } &     0.560   \\\\\n",
       "\\textbf{Method:}           &  Least Squares   & \\textbf{  F-statistic:       } &     63.37   \\\\\n",
       "\\textbf{Date:}             & Tue, 18 Feb 2025 & \\textbf{  Prob (F-statistic):} &  2.53e-10   \\\\\n",
       "\\textbf{Time:}             &     11:46:50     & \\textbf{  Log-Likelihood:    } &   -93.054   \\\\\n",
       "\\textbf{No. Observations:} &          50      & \\textbf{  AIC:               } &     190.1   \\\\\n",
       "\\textbf{Df Residuals:}     &          48      & \\textbf{  BIC:               } &     193.9   \\\\\n",
       "\\textbf{Df Model:}         &           1      & \\textbf{                     } &             \\\\\n",
       "\\textbf{Covariance Type:}  &    nonrobust     & \\textbf{                     } &             \\\\\n",
       "\\bottomrule\n",
       "\\end{tabular}\n",
       "\\begin{tabular}{lcccccc}\n",
       "                       & \\textbf{coef} & \\textbf{std err} & \\textbf{t} & \\textbf{P$> |$t$|$} & \\textbf{[0.025} & \\textbf{0.975]}  \\\\\n",
       "\\midrule\n",
       "\\textbf{harness\\_size} &       0.5859  &        0.074     &     7.960  &         0.000        &        0.438    &        0.734     \\\\\n",
       "\\textbf{const}         &       5.7191  &        4.102     &     1.394  &         0.170        &       -2.528    &       13.966     \\\\\n",
       "\\bottomrule\n",
       "\\end{tabular}\n",
       "\\begin{tabular}{lclc}\n",
       "\\textbf{Omnibus:}       &  2.715 & \\textbf{  Durbin-Watson:     } &    1.717  \\\\\n",
       "\\textbf{Prob(Omnibus):} &  0.257 & \\textbf{  Jarque-Bera (JB):  } &    1.758  \\\\\n",
       "\\textbf{Skew:}          &  0.228 & \\textbf{  Prob(JB):          } &    0.415  \\\\\n",
       "\\textbf{Kurtosis:}      &  2.203 & \\textbf{  Cond. No.          } & 1.02e+03  \\\\\n",
       "\\bottomrule\n",
       "\\end{tabular}\n",
       "%\\caption{OLS Regression Results}\n",
       "\\end{center}\n",
       "\n",
       "Notes: \\newline\n",
       " [1] Standard Errors assume that the covariance matrix of the errors is correctly specified. \\newline\n",
       " [2] The condition number is large, 1.02e+03. This might indicate that there are \\newline\n",
       " strong multicollinearity or other numerical problems."
      ],
      "text/plain": [
       "<class 'statsmodels.iolib.summary.Summary'>\n",
       "\"\"\"\n",
       "                            OLS Regression Results                            \n",
       "==============================================================================\n",
       "Dep. Variable:              boot_size   R-squared:                       0.569\n",
       "Model:                            OLS   Adj. R-squared:                  0.560\n",
       "Method:                 Least Squares   F-statistic:                     63.37\n",
       "Date:                Tue, 18 Feb 2025   Prob (F-statistic):           2.53e-10\n",
       "Time:                        11:46:50   Log-Likelihood:                -93.054\n",
       "No. Observations:                  50   AIC:                             190.1\n",
       "Df Residuals:                      48   BIC:                             193.9\n",
       "Df Model:                           1                                         \n",
       "Covariance Type:            nonrobust                                         \n",
       "================================================================================\n",
       "                   coef    std err          t      P>|t|      [0.025      0.975]\n",
       "--------------------------------------------------------------------------------\n",
       "harness_size     0.5859      0.074      7.960      0.000       0.438       0.734\n",
       "const            5.7191      4.102      1.394      0.170      -2.528      13.966\n",
       "==============================================================================\n",
       "Omnibus:                        2.715   Durbin-Watson:                   1.717\n",
       "Prob(Omnibus):                  0.257   Jarque-Bera (JB):                1.758\n",
       "Skew:                           0.228   Prob(JB):                        0.415\n",
       "Kurtosis:                       2.203   Cond. No.                     1.02e+03\n",
       "==============================================================================\n",
       "\n",
       "Notes:\n",
       "[1] Standard Errors assume that the covariance matrix of the errors is correctly specified.\n",
       "[2] The condition number is large, 1.02e+03. This might indicate that there are\n",
       "strong multicollinearity or other numerical problems.\n",
       "\"\"\""
      ]
     },
     "execution_count": 9,
     "metadata": {},
     "output_type": "execute_result"
    }
   ],
   "source": [
    "X = df[[\"harness_size\"]].assign(const=1)\n",
    "y = df[[\"boot_size\"]]\n",
    "model3 = sm.OLS(y, X)\n",
    "result_model3 = model3.fit()\n",
    "result_model3.summary()"
   ]
  }
 ],
 "metadata": {
  "kernel_info": {
   "name": "python310-sdkv2"
  },
  "kernelspec": {
   "display_name": "default:Python",
   "language": "python",
   "name": "conda-env-default-py"
  },
  "language_info": {
   "codemirror_mode": {
    "name": "ipython",
    "version": 3
   },
   "file_extension": ".py",
   "mimetype": "text/x-python",
   "name": "python",
   "nbconvert_exporter": "python",
   "pygments_lexer": "ipython3",
   "version": "3.9.16"
  },
  "microsoft": {
   "host": {
    "AzureML": {
     "notebookHasBeenCompleted": true
    }
   },
   "ms_spell_check": {
    "ms_spell_check_language": "en"
   }
  },
  "nteract": {
   "version": "nteract-front-end@1.0.0"
  }
 },
 "nbformat": 4,
 "nbformat_minor": 4
}
